{
 "cells": [
  {
   "cell_type": "markdown",
   "metadata": {},
   "source": [
    "# Analisando Dados com Python\n",
    "\n",
    "### Exemplo - Cancelamento de Clientes\n",
    "\n",
    "Você foi contratado por uma empresa com mais de 800 mil clientes para um projeto de Dados. Recentemente a empresa percebeu que da sua base total de clientes, a maioria são clientes inativos, ou seja, que já cancelaram o serviço.\n",
    "\n",
    "Precisando melhorar seus resultados ela quer conseguir entender os principais motivos desses cancelamentos e quais as ações mais eficientes para reduzir esse número."
   ]
  },
  {
   "cell_type": "code",
   "execution_count": null,
   "metadata": {},
   "outputs": [],
   "source": [
    "import pandas as pd\n",
    "import plotly.express as px\n",
    "\n",
    "# Importando a base de dados\n",
    "tabela = pd.read_csv(\"cancelamentos.csv\")\n",
    "display(tabela) # a função 'display' mostra uma visualização melhor de tabelas do que a função 'print'\n"
   ]
  },
  {
   "cell_type": "code",
   "execution_count": null,
   "metadata": {},
   "outputs": [],
   "source": [
    "# Excluindo colunas que não serão úteis para a análise\n",
    "tabela = tabela.drop(columns=\"CustomerID\") # \"informações que não ajudam atrapalham\"\n",
    "display(tabela)"
   ]
  },
  {
   "cell_type": "code",
   "execution_count": null,
   "metadata": {},
   "outputs": [],
   "source": [
    "# Procurando possíveis erros na base de dados\n",
    "display(tabela.info()) # Encontrado: colunas vazias!\n",
    "\n",
    "# Excluindo linhas vazias para melhorar a acurácia da análise\n",
    "tabela = tabela.dropna()\n",
    "display(tabela.info())"
   ]
  },
  {
   "cell_type": "code",
   "execution_count": null,
   "metadata": {},
   "outputs": [],
   "source": [
    "# Mostrando a porcentagem de cancelamentos\n",
    "display(tabela[\"cancelou\"].value_counts(normalize=True))"
   ]
  },
  {
   "cell_type": "code",
   "execution_count": null,
   "metadata": {},
   "outputs": [],
   "source": [
    "# Para cada coluna na lista de colunas da tabela\n",
    "for coluna in tabela.columns:\n",
    "    graficoCancelamentos = px.histogram(tabela, x=coluna, color=\"cancelou\") # o grafico de cancelamentos será um histograma, com highlight nos cancelamentos\n",
    "    graficoCancelamentos.show()"
   ]
  },
  {
   "cell_type": "code",
   "execution_count": null,
   "metadata": {},
   "outputs": [],
   "source": [
    "# É possível ver que os clientes com planos mensais, clientes com mais de 4 ligações ao call center e clientes com mais de 20 dias de atraso irão cancelar o plano.\n",
    "\n",
    "# Criando uma tabela com os filtros para descobrir o número de cancelamentos\n",
    "tabelaCancelamentos = tabela.query(\"duracao_contrato != 'Monthly' and ligacoes_callcenter <= 4 and dias_atraso <= 20\")\n",
    "\n",
    "display(tabelaCancelamentos[\"cancelou\"].value_counts(normalize=True)) # 81,6% dos clientes nessas condições cancelaram o plano\n",
    "\n",
    "# A partir dessa análise é possível visualizar motivos de cancelamento e sugerir melhorias  para aumentar a retenção de clientes. "
   ]
  }
 ],
 "metadata": {
  "kernelspec": {
   "display_name": "Python 3",
   "language": "python",
   "name": "python3"
  },
  "language_info": {
   "codemirror_mode": {
    "name": "ipython",
    "version": 3
   },
   "file_extension": ".py",
   "mimetype": "text/x-python",
   "name": "python",
   "nbconvert_exporter": "python",
   "pygments_lexer": "ipython3",
   "version": "3.12.5"
  },
  "orig_nbformat": 4
 },
 "nbformat": 4,
 "nbformat_minor": 2
}
